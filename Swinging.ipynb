{
 "cells": [
  {
   "cell_type": "code",
   "execution_count": 1,
   "metadata": {
    "collapsed": true
   },
   "outputs": [],
   "source": [
    "import pandas as pd"
   ]
  },
  {
   "cell_type": "code",
   "execution_count": 2,
   "metadata": {
    "collapsed": true
   },
   "outputs": [],
   "source": [
    "sp_500 = pd.read_excel('S_and_P.xlsx')"
   ]
  },
  {
   "cell_type": "code",
   "execution_count": 3,
   "metadata": {
    "collapsed": true
   },
   "outputs": [],
   "source": [
    "sp_500.loc[:, 'ticker'] = sp_500.symbol.str.replace('\\xa0', '').str.strip()"
   ]
  },
  {
   "cell_type": "code",
   "execution_count": 4,
   "metadata": {
    "collapsed": true
   },
   "outputs": [],
   "source": [
    "symbols = sp_500.loc[sp_500['last'] < 100].ticker.values"
   ]
  },
  {
   "cell_type": "code",
   "execution_count": 5,
   "metadata": {
    "collapsed": true
   },
   "outputs": [],
   "source": [
    "from alpha_vantage.timeseries import TimeSeries\n",
    "\n",
    "ts = TimeSeries(key='JIDTG1ZAPAD1J1TZ', output_format='pandas')"
   ]
  },
  {
   "cell_type": "code",
   "execution_count": 6,
   "metadata": {
    "collapsed": true
   },
   "outputs": [],
   "source": [
    "sym = symbols[0]"
   ]
  },
  {
   "cell_type": "code",
   "execution_count": null,
   "metadata": {},
   "outputs": [],
   "source": [
    "sym"
   ]
  },
  {
   "cell_type": "code",
   "execution_count": null,
   "metadata": {
    "collapsed": true
   },
   "outputs": [],
   "source": [
    "out = ts.get_daily(sym, outputsize='full')\n",
    "df = out[0]\n"
   ]
  },
  {
   "cell_type": "code",
   "execution_count": null,
   "metadata": {
    "collapsed": true
   },
   "outputs": [],
   "source": [
    "df.to_excel('price_data/%s.xlsx' % sym)"
   ]
  },
  {
   "cell_type": "code",
   "execution_count": 7,
   "metadata": {
    "collapsed": true
   },
   "outputs": [],
   "source": [
    "import time\n",
    "\n"
   ]
  },
  {
   "cell_type": "code",
   "execution_count": 9,
   "metadata": {},
   "outputs": [
    {
     "name": "stdout",
     "output_type": "stream",
     "text": [
      "0 A\n",
      "1 AAL\n",
      "2 ABBV\n",
      "3 ABC\n",
      "4 ABT\n",
      "5 ADM\n",
      "6 AEE\n",
      "7 AEP\n",
      "8 AES\n",
      "9 AFL\n",
      "10 AIG\n",
      "11 AIV\n",
      "12 AJG\n",
      "13 AKAM\n",
      "14 ALB\n",
      "15 ALK\n",
      "16 AMAT\n",
      "17 AMCR\n",
      "18 AMD\n",
      "19 AME\n",
      "20 AMG\n",
      "21 AOS\n",
      "22 APA\n",
      "23 APTV\n",
      "24 ARNC\n",
      "25 ATVI\n",
      "26 BAC\n",
      "27 BAX\n",
      "28 BBT\n",
      "29 BBY\n",
      "30 BEN\n",
      "31 BF.B\n",
      "symbol BF.B failed\n",
      "32 BK\n",
      "33 BKR\n",
      "34 BLL\n",
      "35 BMY\n",
      "36 BSX\n",
      "37 BWA\n",
      "38 C\n",
      "39 CAG\n",
      "40 CAH\n",
      "41 CBRE\n",
      "42 CBS\n",
      "43 CCL\n",
      "44 CDNS\n",
      "45 CERN\n",
      "46 CF\n",
      "47 CFG\n",
      "48 CHD\n",
      "49 CHRW\n",
      "50 CL\n",
      "51 CMA\n",
      "52 CMCSA\n",
      "53 CMS\n",
      "54 CNC\n",
      "symbol CNC failed\n",
      "55 CNP\n",
      "56 COG\n",
      "57 COP\n",
      "58 COTY\n",
      "59 CPB\n",
      "60 CPRI\n",
      "61 CPRT\n",
      "62 CSCO\n",
      "63 CSX\n",
      "64 CTL\n",
      "65 CTSH\n",
      "66 CTVA\n",
      "67 CVS\n",
      "68 CXO\n",
      "69 D\n",
      "70 DAL\n",
      "71 DD\n",
      "72 DFS\n",
      "73 DHI\n",
      "74 DISCA\n",
      "75 DISCK\n",
      "76 DISH\n",
      "77 DLTR\n",
      "78 DOW\n",
      "79 DRE\n",
      "80 DUK\n",
      "81 DVA\n",
      "82 DVN\n",
      "83 DXC\n",
      "84 EBAY\n",
      "85 ED\n",
      "86 EIX\n",
      "87 EMN\n",
      "88 EMR\n",
      "89 EOG\n",
      "90 EQR\n",
      "91 ES\n",
      "92 ETFC\n",
      "93 ETN\n",
      "94 EVRG\n",
      "95 EXC\n",
      "96 EXPD\n",
      "97 F\n",
      "symbol F failed\n",
      "98 FANG\n",
      "99 FAST\n",
      "100 FBHS\n",
      "101 FCX\n",
      "102 FE\n",
      "103 FITB\n",
      "104 FLIR\n",
      "105 FLS\n",
      "106 FMC\n",
      "107 FOX\n",
      "108 FOXA\n",
      "109 FTI\n",
      "110 FTV\n",
      "111 GE\n",
      "112 GILD\n",
      "113 GIS\n",
      "114 GLW\n",
      "115 GM\n",
      "116 GPS\n",
      "117 GRMN\n",
      "118 HAL\n",
      "119 HBAN\n",
      "120 HBI\n",
      "121 HES\n",
      "122 HFC\n",
      "123 HIG\n",
      "124 HOG\n",
      "125 HOLX\n",
      "126 HP\n",
      "127 HPE\n",
      "128 HPQ\n",
      "129 HRB\n",
      "130 HRL\n",
      "131 HSIC\n",
      "132 HST\n",
      "133 ICE\n",
      "134 INCY\n",
      "135 INFO\n",
      "136 INTC\n",
      "137 IP\n",
      "138 IPG\n",
      "139 IRM\n",
      "140 IVZ\n",
      "141 JCI\n",
      "142 JEC\n",
      "143 JNPR\n",
      "144 JWN\n",
      "145 K\n",
      "146 KEY\n",
      "147 KHC\n",
      "148 KIM\n",
      "149 KMI\n",
      "150 KMX\n",
      "151 KO\n",
      "152 KR\n",
      "153 KSS\n",
      "symbol KSS failed\n",
      "154 L\n",
      "155 LB\n",
      "156 LDOS\n",
      "157 LEG\n",
      "158 LEN\n",
      "159 LKQ\n",
      "160 LNC\n",
      "161 LNT\n",
      "162 LUV\n",
      "163 LVS\n",
      "164 LW\n",
      "symbol LW failed\n",
      "165 LYB\n",
      "166 M\n",
      "167 MAC\n",
      "168 MAS\n",
      "169 MCHP\n",
      "symbol MCHP failed\n",
      "170 MDLZ\n",
      "171 MET\n",
      "172 MGM\n",
      "173 MNST\n",
      "174 MO\n",
      "175 MOS\n",
      "176 MPC\n",
      "177 MRK\n",
      "178 MRO\n",
      "179 MS\n",
      "180 MU\n",
      "181 MXIM\n",
      "182 MYL\n",
      "183 NBL\n",
      "184 NCLH\n",
      "185 NEM\n",
      "186 NI\n",
      "187 NKE\n",
      "188 NLSN\n",
      "189 NOV\n",
      "190 NRG\n",
      "191 NTAP\n",
      "192 NUE\n",
      "193 NWL\n",
      "194 NWS\n",
      "195 NWSA\n",
      "196 O\n",
      "197 OKE\n",
      "198 OMC\n",
      "199 ORCL\n",
      "200 OXY\n",
      "201 PAYX\n",
      "202 PBCT\n",
      "203 PCAR\n",
      "204 PEG\n",
      "205 PFE\n",
      "206 PFG\n",
      "207 PGR\n",
      "208 PHM\n",
      "209 PKI\n",
      "210 PLD\n",
      "211 PM\n",
      "212 PNR\n",
      "213 PNW\n",
      "214 PPL\n",
      "215 PRGO\n",
      "216 PRU\n",
      "217 PVH\n",
      "218 PWR\n",
      "219 QCOM\n",
      "220 REG\n",
      "221 RF\n",
      "222 RHI\n",
      "223 RJF\n",
      "224 ROL\n",
      "225 RSG\n",
      "226 SBUX\n",
      "227 SCHW\n",
      "228 SEE\n",
      "symbol SEE failed\n",
      "229 SLB\n",
      "230 SLG\n",
      "231 SO\n",
      "232 STI\n",
      "233 STT\n",
      "234 STX\n",
      "235 SWKS\n",
      "236 SYF\n",
      "237 SYY\n",
      "238 T\n",
      "239 TAP\n",
      "240 TEL\n",
      "241 TJX\n",
      "242 TMUS\n",
      "243 TPR\n",
      "244 TRIP\n",
      "245 TSCO\n",
      "246 TSN\n",
      "247 TWTR\n",
      "248 TXT\n",
      "249 UA\n",
      "250 UAA\n",
      "251 UAL\n",
      "252 UDR\n",
      "253 UNM\n",
      "254 USB\n",
      "255 VFC\n",
      "256 VIAB\n",
      "257 VLO\n",
      "258 VNO\n",
      "259 VTR\n",
      "260 VZ\n",
      "261 WAB\n",
      "262 WBA\n",
      "263 WDC\n",
      "264 WEC\n",
      "265 WELL\n",
      "266 WFC\n",
      "267 WMB\n",
      "268 WRK\n",
      "269 WU\n",
      "270 WY\n",
      "271 XEC\n",
      "272 XEL\n",
      "273 XLNX\n",
      "274 XOM\n",
      "275 XRAY\n",
      "276 XRX\n",
      "277 XYL\n",
      "278 ZION\n"
     ]
    }
   ],
   "source": [
    "for ind in range(0, len(symbols)):\n",
    "    sym = symbols[ind]\n",
    "    print(ind, sym)\n",
    "    try:\n",
    "        out = ts.get_daily_adjusted(sym, outputsize='full')\n",
    "        df = out[0]\n",
    "        df.to_excel('price_data/%s.xlsx' % sym)\n",
    "    except:\n",
    "        print('symbol %s failed' % sym)\n",
    "    time.sleep(15)"
   ]
  },
  {
   "cell_type": "code",
   "execution_count": 29,
   "metadata": {},
   "outputs": [],
   "source": [
    "sym = 'F'\n",
    "out = ts.get_daily_adjusted(sym, outputsize='full')\n",
    "df = out[0]\n",
    "df.to_excel('price_data/%s.xlsx' % sym)"
   ]
  },
  {
   "cell_type": "code",
   "execution_count": 30,
   "metadata": {},
   "outputs": [
    {
     "data": {
      "text/plain": [
       "96"
      ]
     },
     "execution_count": 30,
     "metadata": {},
     "output_type": "execute_result"
    }
   ],
   "source": [
    "files.index('F.xlsx')"
   ]
  },
  {
   "cell_type": "code",
   "execution_count": 18,
   "metadata": {},
   "outputs": [
    {
     "data": {
      "text/plain": [
       "Index(['date', '1. open', '2. high', '3. low', '4. close', '5. adjusted close',\n",
       "       '6. volume', '7. dividend amount', '8. split coefficient'],\n",
       "      dtype='object')"
      ]
     },
     "execution_count": 18,
     "metadata": {},
     "output_type": "execute_result"
    }
   ],
   "source": [
    "df.columns"
   ]
  },
  {
   "cell_type": "code",
   "execution_count": 31,
   "metadata": {},
   "outputs": [],
   "source": [
    "import os\n",
    "\n",
    "files = os.listdir('price_data')\n",
    "columns = ['date', 'open', 'high', 'low', 'close', 'adjusted_close', 'volume', 'dividend_amount', 'split_coefficient']\n",
    "df_list = []\n",
    "for f in files:\n",
    "    df = pd.read_excel('price_data/%s' % f)\n",
    "    df.columns = columns\n",
    "    df.loc[:, 'symbol'] = f.split('.')[0]\n",
    "    df_list.append(df)"
   ]
  },
  {
   "cell_type": "code",
   "execution_count": 32,
   "metadata": {
    "collapsed": true
   },
   "outputs": [],
   "source": [
    "big_df = pd.concat(df_list, axis=0, ignore_index=True)"
   ]
  },
  {
   "cell_type": "code",
   "execution_count": 33,
   "metadata": {},
   "outputs": [
    {
     "data": {
      "text/plain": [
       "(1225128, 10)"
      ]
     },
     "execution_count": 33,
     "metadata": {},
     "output_type": "execute_result"
    }
   ],
   "source": [
    "big_df.shape"
   ]
  },
  {
   "cell_type": "code",
   "execution_count": 34,
   "metadata": {
    "collapsed": true
   },
   "outputs": [],
   "source": [
    "big_df.to_parquet('s_and_p_quotes_hist_orig.parquet')"
   ]
  }
 ],
 "metadata": {
  "kernelspec": {
   "display_name": "Python 3",
   "language": "python",
   "name": "python3"
  },
  "language_info": {
   "codemirror_mode": {
    "name": "ipython",
    "version": 3
   },
   "file_extension": ".py",
   "mimetype": "text/x-python",
   "name": "python",
   "nbconvert_exporter": "python",
   "pygments_lexer": "ipython3",
   "version": "3.6.1"
  }
 },
 "nbformat": 4,
 "nbformat_minor": 2
}
