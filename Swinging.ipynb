{
 "cells": [
  {
   "cell_type": "code",
   "execution_count": 14,
   "metadata": {
    "collapsed": true
   },
   "outputs": [],
   "source": [
    "import pandas as pd"
   ]
  },
  {
   "cell_type": "code",
   "execution_count": 15,
   "metadata": {},
   "outputs": [],
   "source": [
    "sp_500 = pd.read_excel('S_and_P.xlsx')"
   ]
  },
  {
   "cell_type": "code",
   "execution_count": 45,
   "metadata": {},
   "outputs": [],
   "source": [
    "sp_500.loc[:, 'ticker'] = sp_500.symbol.str.replace('\\xa0', '').str.strip()"
   ]
  },
  {
   "cell_type": "code",
   "execution_count": 46,
   "metadata": {},
   "outputs": [],
   "source": [
    "symbols = sp_500.loc[sp_500['last'] < 100].ticker.values"
   ]
  },
  {
   "cell_type": "code",
   "execution_count": 20,
   "metadata": {
    "collapsed": true
   },
   "outputs": [],
   "source": [
    "from alpha_vantage.timeseries import TimeSeries\n",
    "\n",
    "ts = TimeSeries(key='JIDTG1ZAPAD1J1TZ', output_format='pandas')"
   ]
  },
  {
   "cell_type": "code",
   "execution_count": 49,
   "metadata": {
    "collapsed": true
   },
   "outputs": [],
   "source": [
    "sym = symbols[0]"
   ]
  },
  {
   "cell_type": "code",
   "execution_count": 50,
   "metadata": {},
   "outputs": [
    {
     "data": {
      "text/plain": [
       "'A'"
      ]
     },
     "execution_count": 50,
     "metadata": {},
     "output_type": "execute_result"
    }
   ],
   "source": [
    "sym"
   ]
  },
  {
   "cell_type": "code",
   "execution_count": 51,
   "metadata": {
    "collapsed": true
   },
   "outputs": [],
   "source": [
    "out = ts.get_daily(sym, outputsize='full')\n",
    "df = out[0]\n"
   ]
  },
  {
   "cell_type": "code",
   "execution_count": 56,
   "metadata": {},
   "outputs": [],
   "source": [
    "df.to_excel('price_data/%s.xlsx' % sym)"
   ]
  },
  {
   "cell_type": "code",
   "execution_count": 58,
   "metadata": {
    "collapsed": true
   },
   "outputs": [],
   "source": [
    "import time\n",
    "\n"
   ]
  },
  {
   "cell_type": "code",
   "execution_count": 62,
   "metadata": {},
   "outputs": [
    {
     "name": "stdout",
     "output_type": "stream",
     "text": [
      "160 LNC\n",
      "161 LNT\n",
      "162 LUV\n",
      "163 LVS\n",
      "164 LW\n",
      "165 LYB\n",
      "166 M\n",
      "167 MAC\n",
      "symbol MAC failed\n",
      "168 MAS\n",
      "169 MCHP\n",
      "170 MDLZ\n",
      "171 MET\n",
      "172 MGM\n",
      "symbol MGM failed\n",
      "173 MNST\n",
      "174 MO\n",
      "175 MOS\n",
      "176 MPC\n",
      "177 MRK\n",
      "178 MRO\n",
      "179 MS\n",
      "180 MU\n",
      "181 MXIM\n",
      "182 MYL\n",
      "183 NBL\n",
      "184 NCLH\n",
      "185 NEM\n",
      "186 NI\n",
      "187 NKE\n",
      "188 NLSN\n",
      "189 NOV\n",
      "190 NRG\n",
      "191 NTAP\n",
      "192 NUE\n",
      "193 NWL\n",
      "194 NWS\n",
      "195 NWSA\n",
      "196 O\n",
      "197 OKE\n",
      "198 OMC\n",
      "199 ORCL\n",
      "200 OXY\n",
      "201 PAYX\n",
      "202 PBCT\n",
      "203 PCAR\n",
      "204 PEG\n",
      "205 PFE\n",
      "206 PFG\n",
      "207 PGR\n",
      "208 PHM\n",
      "209 PKI\n",
      "210 PLD\n",
      "211 PM\n",
      "212 PNR\n",
      "213 PNW\n",
      "214 PPL\n",
      "215 PRGO\n",
      "216 PRU\n",
      "217 PVH\n",
      "218 PWR\n",
      "219 QCOM\n",
      "220 REG\n",
      "221 RF\n",
      "222 RHI\n",
      "223 RJF\n",
      "224 ROL\n",
      "225 RSG\n",
      "226 SBUX\n",
      "227 SCHW\n",
      "228 SEE\n",
      "229 SLB\n",
      "230 SLG\n",
      "231 SO\n",
      "232 STI\n",
      "233 STT\n",
      "234 STX\n",
      "235 SWKS\n",
      "236 SYF\n",
      "237 SYY\n",
      "238 T\n",
      "239 TAP\n",
      "240 TEL\n",
      "241 TJX\n",
      "242 TMUS\n",
      "243 TPR\n",
      "244 TRIP\n",
      "245 TSCO\n",
      "246 TSN\n",
      "247 TWTR\n",
      "symbol TWTR failed\n",
      "248 TXT\n",
      "249 UA\n",
      "250 UAA\n",
      "251 UAL\n",
      "252 UDR\n",
      "symbol UDR failed\n",
      "253 UNM\n",
      "254 USB\n",
      "255 VFC\n",
      "256 VIAB\n",
      "257 VLO\n",
      "258 VNO\n",
      "259 VTR\n",
      "260 VZ\n",
      "261 WAB\n",
      "262 WBA\n",
      "263 WDC\n",
      "264 WEC\n",
      "265 WELL\n",
      "266 WFC\n",
      "267 WMB\n",
      "268 WRK\n",
      "269 WU\n",
      "270 WY\n",
      "271 XEC\n",
      "272 XEL\n",
      "273 XLNX\n",
      "274 XOM\n",
      "symbol XOM failed\n",
      "275 XRAY\n",
      "276 XRX\n",
      "277 XYL\n",
      "278 ZION\n"
     ]
    }
   ],
   "source": [
    "for ind in range(160, len(symbols)):\n",
    "    sym = symbols[ind]\n",
    "    print(ind, sym)\n",
    "    try:\n",
    "        out = ts.get_daily(sym, outputsize='full')\n",
    "        df = out[0]\n",
    "        df.to_excel('price_data/%s.xlsx' % sym)\n",
    "    except:\n",
    "        print('symbol %s failed' % sym)\n",
    "    time.sleep(15)"
   ]
  },
  {
   "cell_type": "code",
   "execution_count": 66,
   "metadata": {},
   "outputs": [],
   "source": [
    "sym = 'UDR'\n",
    "out = ts.get_daily(sym, outputsize='full')\n",
    "df = out[0]\n",
    "df.to_excel('price_data/%s.xlsx' % sym)"
   ]
  },
  {
   "cell_type": "code",
   "execution_count": 80,
   "metadata": {},
   "outputs": [
    {
     "data": {
      "text/plain": [
       "'A.xlsx'"
      ]
     },
     "execution_count": 80,
     "metadata": {},
     "output_type": "execute_result"
    }
   ],
   "source": [
    "f"
   ]
  },
  {
   "cell_type": "code",
   "execution_count": 79,
   "metadata": {},
   "outputs": [
    {
     "data": {
      "text/plain": [
       "Index(['date', '1. open', '2. high', '3. low', '4. close', '5. volume'], dtype='object')"
      ]
     },
     "execution_count": 79,
     "metadata": {},
     "output_type": "execute_result"
    }
   ],
   "source": [
    "df.columns"
   ]
  },
  {
   "cell_type": "code",
   "execution_count": 82,
   "metadata": {},
   "outputs": [],
   "source": [
    "import os\n",
    "\n",
    "files = os.listdir('price_data')\n",
    "columns = ['date', 'open', 'high', 'low', 'close', 'volume']\n",
    "df_list = []\n",
    "for f in files:\n",
    "    df = pd.read_excel('price_data/%s' % f)\n",
    "    df.columns = columns\n",
    "    df.loc[:, 'symbol'] = f.split('.')[0]\n",
    "    df_list.append(df)"
   ]
  },
  {
   "cell_type": "code",
   "execution_count": 83,
   "metadata": {
    "collapsed": true
   },
   "outputs": [],
   "source": [
    "big_df = pd.concat(df_list, axis=0, ignore_index=True)"
   ]
  },
  {
   "cell_type": "code",
   "execution_count": 84,
   "metadata": {},
   "outputs": [
    {
     "data": {
      "text/plain": [
       "(1210097, 7)"
      ]
     },
     "execution_count": 84,
     "metadata": {},
     "output_type": "execute_result"
    }
   ],
   "source": [
    "big_df.shape"
   ]
  },
  {
   "cell_type": "code",
   "execution_count": 86,
   "metadata": {},
   "outputs": [],
   "source": [
    "big_df.to_csv('s_and_p_quotes_hist.csv')"
   ]
  }
 ],
 "metadata": {
  "kernelspec": {
   "display_name": "Python 3",
   "language": "python",
   "name": "python3"
  },
  "language_info": {
   "codemirror_mode": {
    "name": "ipython",
    "version": 3
   },
   "file_extension": ".py",
   "mimetype": "text/x-python",
   "name": "python",
   "nbconvert_exporter": "python",
   "pygments_lexer": "ipython3",
   "version": "3.6.1"
  }
 },
 "nbformat": 4,
 "nbformat_minor": 2
}
