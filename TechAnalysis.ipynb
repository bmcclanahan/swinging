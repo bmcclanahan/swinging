{
 "cells": [
  {
   "cell_type": "code",
   "execution_count": null,
   "metadata": {
    "collapsed": true
   },
   "outputs": [],
   "source": [
    "import pandas as pd"
   ]
  },
  {
   "cell_type": "code",
   "execution_count": null,
   "metadata": {
    "collapsed": true
   },
   "outputs": [],
   "source": [
    "df = pd.read_csv('s_and_p_quotes_hist.csv', parse_dates=['date'])"
   ]
  },
  {
   "cell_type": "code",
   "execution_count": null,
   "metadata": {
    "collapsed": true
   },
   "outputs": [],
   "source": [
    "cols = ['date', 'open', 'high', 'low', 'close', 'volume', 'symbol']"
   ]
  },
  {
   "cell_type": "code",
   "execution_count": null,
   "metadata": {
    "collapsed": true
   },
   "outputs": [],
   "source": [
    "df.columns"
   ]
  },
  {
   "cell_type": "code",
   "execution_count": null,
   "metadata": {
    "collapsed": true
   },
   "outputs": [],
   "source": [
    "df = df[cols]"
   ]
  },
  {
   "cell_type": "code",
   "execution_count": null,
   "metadata": {
    "collapsed": true
   },
   "outputs": [],
   "source": [
    "df = df.dropna()"
   ]
  },
  {
   "cell_type": "code",
   "execution_count": null,
   "metadata": {
    "collapsed": true
   },
   "outputs": [],
   "source": [
    "def price_normalize(sym_df):\n",
    "    sym_df.loc[:, 'year'] = sym_df.date.dt.year\n",
    "    first_day = sym_df.groupby('year').first().reset_index()[['year', 'date', 'close']]\n",
    "    first_day.columns = ['year', 'join_date', 'join_close']\n",
    "    join_df = sym_df.merge(first_day, on='year')\n",
    "    prc_cols = ['open', 'high', 'low', 'close']\n",
    "    prc_cols_n = [x + '_n' for x in prc_cols]\n",
    "    norm_df = join_df.loc[:, prc_cols] / join_df.loc[:, ['join_close']].values\n",
    "    norm_df.columns = prc_cols_n\n",
    "    out_df = pd.concat((join_df, norm_df), axis=1)\n",
    "    out_df = out_df.loc[out_df['date'] != out_df['join_date']]\n",
    "    return out_df"
   ]
  },
  {
   "cell_type": "code",
   "execution_count": null,
   "metadata": {
    "collapsed": true
   },
   "outputs": [],
   "source": [
    "import warnings\n",
    "warnings.filterwarnings('ignore')"
   ]
  },
  {
   "cell_type": "code",
   "execution_count": null,
   "metadata": {
    "collapsed": true
   },
   "outputs": [],
   "source": [
    "df_norm = df.groupby('symbol').apply(price_normalize)"
   ]
  },
  {
   "cell_type": "code",
   "execution_count": null,
   "metadata": {
    "collapsed": true
   },
   "outputs": [],
   "source": [
    "df_norm.to_parquet('historical_pr_data.parquet')"
   ]
  },
  {
   "cell_type": "markdown",
   "metadata": {},
   "source": [
    "### Load Data From Parquet"
   ]
  },
  {
   "cell_type": "code",
   "execution_count": 1,
   "metadata": {
    "collapsed": true
   },
   "outputs": [],
   "source": [
    "import pandas as pd\n",
    "\n",
    "df_norm = pd.read_parquet('historical_pr_data.parquet')"
   ]
  },
  {
   "cell_type": "code",
   "execution_count": null,
   "metadata": {
    "collapsed": true
   },
   "outputs": [],
   "source": [
    "sym_df = df_norm.loc[df_norm.symbol == 'A']"
   ]
  },
  {
   "cell_type": "code",
   "execution_count": 2,
   "metadata": {
    "collapsed": true
   },
   "outputs": [],
   "source": [
    "import ta\n",
    "\n",
    "def get_indicators(sym_df, reversion_offsets=[30, 50, 100]):\n",
    "    roc = ta.momentum.ROCIndicator(sym_df.close).roc()\n",
    "    roc_short = ta.momentum.ROCIndicator(close=sym_df.close, n=6).roc()\n",
    "    roc_long = ta.momentum.ROCIndicator(close=sym_df.close, n=18).roc()\n",
    "    aws_ind = ta.momentum.AwesomeOscillatorIndicator(high=sym_df.high_n, low=sym_df.low_n).ao()\n",
    "    mfi = ta.momentum.MFIIndicator(\n",
    "        high=sym_df.high_n, low=sym_df.low_n,\n",
    "        close=sym_df.close_n, volume=sym_df.volume\n",
    "    ).money_flow_index()\n",
    "    macd = ta.trend.MACD(close=sym_df.close_n).macd_diff()\n",
    "    rsi = ta.momentum.RSIIndicator(close=sym_df.close_n).rsi()\n",
    "    sym_df.loc[:, 'roc'] = roc\n",
    "    sym_df.loc[:, 'roc_short'] = roc_short\n",
    "    sym_df.loc[:, 'roc_long'] = roc_long\n",
    "    sym_df.loc[:, 'aws'] = aws_ind\n",
    "    sym_df.loc[:, 'mfi'] = mfi\n",
    "    sym_df.loc[:, 'macd'] = macd\n",
    "    sym_df.loc[:, 'rsi'] = rsi\n",
    "    for offset in reversion_offsets:\n",
    "        for meas in ['rsi', 'macd', 'mfi']:\n",
    "            sym_df.loc[:, '%s_min_%d' % (meas, offset)] = sym_df[meas].rolling(offset, min_periods=1).min()\n",
    "            sym_df.loc[:, '%s_max_%d' % (meas, offset)] = sym_df[meas].rolling(offset, min_periods=1).max()\n",
    "    return sym_df"
   ]
  },
  {
   "cell_type": "code",
   "execution_count": 3,
   "metadata": {
    "collapsed": true
   },
   "outputs": [],
   "source": [
    "df_ind = df_norm.reset_index(drop=True).groupby('symbol').apply(get_indicators)"
   ]
  },
  {
   "cell_type": "code",
   "execution_count": 4,
   "metadata": {
    "collapsed": true
   },
   "outputs": [],
   "source": [
    "def get_entrances(df, lag_thresh=3,\n",
    "              macd_oversold=-9e-3,\n",
    "              rsi_oversold=30,\n",
    "              mfi_oversold=30,\n",
    "              popup=True):\n",
    "    df.loc[:, 'macd_last'] = df.macd.shift(1)\n",
    "    df.loc[:, 'aws_last'] = df.aws.shift(1)\n",
    "    df.loc[:, 'close_last'] = df.close.shift(1)\n",
    "    df.loc[:, 'macd_enter'] = 0\n",
    "    macd_abv = df.macd > 0\n",
    "    df.loc[(df.macd_last < 0) & macd_abv, 'macd_enter'] = 1\n",
    "    lag_macd = df.macd_enter.rolling(lag_thresh, min_periods=1).max()\n",
    "    df.loc[:, 'aws_enter'] = 0\n",
    "    aws_abv = df.aws > 0\n",
    "    df.loc[(df.aws_last < 0) & aws_abv, 'aws_enter'] = 1\n",
    "    lag_aws = df.aws_enter.rolling(lag_thresh, min_periods=1).max()\n",
    "    df.loc[macd_abv & (lag_macd == 1), 'macd_enter'] = 1\n",
    "    df.loc[aws_abv & (lag_aws == 1), 'aws_enter'] = 1\n",
    "    # The set criteria for these reversion based entrances are\n",
    "    # mostly set based on desire for computational efficiency.\n",
    "    if popup:\n",
    "        popup_bool = df.close > df.close_last\n",
    "    else:\n",
    "        popup_bool = df.close == df.close\n",
    "    df.loc[:, 'macd_oversold_enter'] = 0\n",
    "    df.loc[(df.macd <= macd_oversold) & popup_bool, 'macd_oversold_enter'] = 1\n",
    "    df.loc[:, 'rsi_oversold_enter'] = 0\n",
    "    df.loc[(df.rsi <= rsi_oversold) & popup_bool, 'rsi_oversold_enter'] = 1\n",
    "    df.loc[:, 'mfi_oversold_enter'] = 0\n",
    "    df.loc[(df.mfi <= mfi_oversold) & popup_bool, 'mfi_oversold_enter'] = 1\n",
    "    enter_cols = ['macd_enter', 'aws_enter', 'macd_oversold_enter', 'rsi_oversold_enter',\n",
    "                  'mfi_oversold_enter']\n",
    "    df.loc[:, 'entrances'] = df[enter_cols].sum(axis=1).clip(upper=1)\n",
    "    return df"
   ]
  },
  {
   "cell_type": "code",
   "execution_count": 5,
   "metadata": {
    "collapsed": true,
    "scrolled": true
   },
   "outputs": [],
   "source": [
    "import numpy as np\n",
    "import numpy.testing as tst\n",
    "\n",
    "macd = [-5e-3, 5e-3, 5e-3, 5e-3, 5e-3, 5e-3, 5e-3, 5e-3, -9e-3, -9e-3,\n",
    "        5e-3, 5e-3, 5e-3, 5e-3, -5e-3, 5e-3]\n",
    "aws = [-5, -5, 5, 5, 5, 5, 5, 5, -5, -5, 5,\n",
    "       5, 5, 5, -5, 5]\n",
    "rsi = np.ones(len(aws)) * 60\n",
    "rsi[2:5] = 30\n",
    "mfi = np.ones(len(aws)) * 70\n",
    "mfi[3:6] = 30\n",
    "test_input_df = pd.DataFrame({'macd': macd, 'aws': aws, 'rsi': rsi, 'mfi': mfi, 'close': list(range(len(mfi)))})\n",
    "test_input_df.loc[:, 'macd_last'] = test_input_df.macd.shift(1)\n",
    "test_input_df.loc[:, 'aws_last'] = test_input_df.aws.shift(1)\n",
    "macd_enter = [0, 1, 1, 1, 0, 0, 0, 0, 0, 0, 1, 1, 1, 0, 0, 1]\n",
    "aws_enter = [0, 0, 1, 1, 1, 0, 0, 0, 0, 0, 1, 1, 1, 0, 0, 1]\n",
    "rsi_oversold_enter = np.zeros(len(rsi))\n",
    "rsi_oversold_enter[2:5] = 1\n",
    "macd_oversold_enter = np.zeros(len(macd))\n",
    "macd_oversold_enter[8:10] = 1\n",
    "mfi_oversold_enter = np.zeros(len(mfi))\n",
    "mfi_oversold_enter[3:6] = 1\n",
    "entrances = [0, 1, 1, 1, 1, 1, 0, 0, 1, 1, 1, 1, 1, 0, 0, 1]\n",
    "test_exp_out_df = pd.DataFrame({'macd_enter': macd_enter,\n",
    "                                'aws_enter': aws_enter,\n",
    "                                'macd_oversold_enter': macd_oversold_enter,\n",
    "                                'rsi_oversold_enter': rsi_oversold_enter,\n",
    "                                'mfi_oversold_enter': mfi_oversold_enter,\n",
    "                                'entrances': entrances})\n",
    "test_out_df = get_entrances(test_input_df, lag_thresh=3)\n",
    "out_cols = ['macd_enter', 'aws_enter',\n",
    "            'macd_oversold_enter', 'rsi_oversold_enter',\n",
    "            'mfi_oversold_enter', 'entrances']\n",
    "tst.assert_array_equal(test_out_df[out_cols].values, test_exp_out_df[out_cols].values)"
   ]
  },
  {
   "cell_type": "code",
   "execution_count": 6,
   "metadata": {
    "collapsed": true
   },
   "outputs": [],
   "source": [
    "df_entrance = df_ind.groupby('symbol').apply(lambda x: get_entrances(x, lag_thresh=1, popup=False))"
   ]
  },
  {
   "cell_type": "code",
   "execution_count": 7,
   "metadata": {
    "collapsed": true
   },
   "outputs": [],
   "source": [
    "open_prices =  [0.0,  0.8, 0.75, 0.77, 0.88, 0.90, 0.95,  1.0, 0.98,  0.91, 0.85, 0.87]\n",
    "close_prices = [0.8, 0.75, 0.77, 0.88,  0.9, 0.95, 1.0, 0.98,  0.9, 0.85, 0.88,    0]\n",
    "entrances =    [1.0,    0,    0,    0,    0,    0,   0,    0,    1,    0,    0,    0]\n",
    "df_test = pd.DataFrame({'entrances': entrances, 'close': close_prices, 'open': open_prices})"
   ]
  },
  {
   "cell_type": "code",
   "execution_count": 8,
   "metadata": {
    "collapsed": true
   },
   "outputs": [],
   "source": [
    "from numba import jit\n",
    "\n",
    "\n",
    "#@jit(nopython=True)\n",
    "def backtest_numba(open_prices, close_prices, entrance, trail_stop, holding_per, prof_target=.20):\n",
    "    n = len(entrance)\n",
    "    profits = np.zeros(n)\n",
    "    for ind1 in range(n - 1): # can't get next day open for last day\n",
    "        if entrance[ind1] == 1:\n",
    "            stop = int(min(n - ind1 - 1, holding_per))\n",
    "            start_price = open_prices[ind1]\n",
    "            peak_price = start_price\n",
    "            open_profit = 0.0\n",
    "            for ind2 in range(1, stop):\n",
    "                current_price = close_prices[ind1 + ind2]\n",
    "                open_price = open_prices[ind1 + ind2]\n",
    "                if current_price > peak_price:\n",
    "                    peak_price = current_price\n",
    "                percentage_drop = (peak_price - current_price) / peak_price\n",
    "                close_profit = current_price - start_price\n",
    "                open_profit = open_price - start_price\n",
    "                profit_perc = close_profit / start_price\n",
    "                if percentage_drop >= trail_stop or profit_perc >= prof_target:\n",
    "                    break\n",
    "            profits[ind1] = open_profit\n",
    "    return profits\n",
    "                \n",
    "\n",
    "def backtest(df, trail_stop=(0.1 - 1e-8), holding_per=30, prof_target=0.2):\n",
    "    profits = backtest_numba(df.open.shift(-1).values, df.close.values,\n",
    "                             df.entrances.values, trail_stop, holding_per,\n",
    "                             prof_target=prof_target)\n",
    "    df.loc[:, 'profits'] = profits\n",
    "    df.loc[:, 'binary_profit'] = 0\n",
    "    df.loc[df.profits > 0, 'binary_profit'] = 1\n",
    "    return df"
   ]
  },
  {
   "cell_type": "code",
   "execution_count": 9,
   "metadata": {},
   "outputs": [],
   "source": [
    "import numpy as np\n",
    "\n",
    "df_out_test = backtest(df_test, prof_target=1.0)\n",
    "exp_profits = np.array([0.11, 0.0, 0.0, 0.0, 0.0, 0.0, 0.0, 0.0, -0.04, 0.0, 0.0, 0.0])\n",
    "tst.assert_almost_equal(df_out_test.profits.values, exp_profits)"
   ]
  },
  {
   "cell_type": "code",
   "execution_count": null,
   "metadata": {
    "collapsed": true
   },
   "outputs": [],
   "source": [
    "df_out_test"
   ]
  },
  {
   "cell_type": "code",
   "execution_count": 10,
   "metadata": {},
   "outputs": [
    {
     "name": "stdout",
     "output_type": "stream",
     "text": [
      "Wall time: 37 s\n"
     ]
    }
   ],
   "source": [
    "%%time\n",
    "df_profits = df_entrance.groupby('symbol').apply(lambda x: backtest(x, trail_stop=(0.2 - 1e-8), holding_per=50,\n",
    "                                                                    prof_target=0.2))"
   ]
  },
  {
   "cell_type": "code",
   "execution_count": null,
   "metadata": {
    "collapsed": true
   },
   "outputs": [],
   "source": [
    "df_profits = df_entrance.groupby('symbol').apply(lambda x: backtest(x, trail_stop=(0.2 - 1e-8), holding_per=50,\n",
    "                                                                    prof_target=1.0))"
   ]
  },
  {
   "cell_type": "code",
   "execution_count": 11,
   "metadata": {
    "collapsed": true
   },
   "outputs": [],
   "source": [
    "def get_profit_metrics(df_profits):\n",
    "    prof_cols = []\n",
    "    wins_losses = {}\n",
    "    for col in out_cols:\n",
    "        col_name = col + '_profits'\n",
    "        df_profits.loc[:, col_name] = df_profits[col] * df_profits['profits']\n",
    "        prof_cols.append(col_name)\n",
    "        win_index = df_profits[col_name] > 0\n",
    "        loss_index = df_profits[col_name] < 0\n",
    "        mean_win = df_profits.loc[win_index, col_name].mean()\n",
    "        mean_loss = df_profits.loc[loss_index, col_name].mean()\n",
    "        sum_win = df_profits.loc[win_index, col_name].sum()\n",
    "        sum_loss = df_profits.loc[loss_index, col_name].sum()\n",
    "        win_perc = (df_profits.loc[win_index, col_name] /df_profits.loc[win_index, 'close']).mean()\n",
    "        loss_perc = (df_profits.loc[loss_index, col_name] /df_profits.loc[loss_index, 'close']).mean()\n",
    "        wins_losses[col_name] = [win_index.sum(), loss_index.sum(), mean_win, mean_loss, sum_win, sum_loss,\n",
    "                                 win_perc, loss_perc]\n",
    "\n",
    "    df_win_loss = pd.DataFrame(wins_losses, index=['wins', 'losses', 'mean_win',\n",
    "                                                   'mean_loss', 'ttl_win', 'ttl_loss',\n",
    "                                                   'mean_win_perc', 'mean_loss_perc']).transpose()\n",
    "    df_win_loss.loc[:, 'win_loss_ratio'] =  df_win_loss.wins / df_win_loss.losses\n",
    "    df_win_loss.loc[:, 'avg_w_l_prof_ratio'] = df_win_loss.mean_win / np.abs(df_win_loss.mean_loss)\n",
    "    \n",
    "    df_win_loss.loc[:, 'ttl_w_l_prof_ratio'] = df_win_loss.ttl_win / np.abs(df_win_loss.ttl_loss)\n",
    "    df_win_loss.loc[:, 'net_profit'] = df_win_loss.ttl_win + df_win_loss.ttl_loss\n",
    "    return df_win_loss"
   ]
  },
  {
   "cell_type": "code",
   "execution_count": null,
   "metadata": {
    "collapsed": true
   },
   "outputs": [],
   "source": [
    "win_loss_yr_metrics = df_profits.groupby('year').apply(get_profit_metrics)"
   ]
  },
  {
   "cell_type": "code",
   "execution_count": 12,
   "metadata": {
    "collapsed": true
   },
   "outputs": [],
   "source": [
    "df_win_loss = get_profit_metrics(df_profits)"
   ]
  },
  {
   "cell_type": "code",
   "execution_count": null,
   "metadata": {
    "collapsed": true
   },
   "outputs": [],
   "source": [
    "win_loss_yr_metrics.to_excel('metrics/baseline_performance.xlsx')"
   ]
  },
  {
   "cell_type": "code",
   "execution_count": 13,
   "metadata": {},
   "outputs": [
    {
     "data": {
      "text/html": [
       "<div>\n",
       "<style scoped>\n",
       "    .dataframe tbody tr th:only-of-type {\n",
       "        vertical-align: middle;\n",
       "    }\n",
       "\n",
       "    .dataframe tbody tr th {\n",
       "        vertical-align: top;\n",
       "    }\n",
       "\n",
       "    .dataframe thead th {\n",
       "        text-align: right;\n",
       "    }\n",
       "</style>\n",
       "<table border=\"1\" class=\"dataframe\">\n",
       "  <thead>\n",
       "    <tr style=\"text-align: right;\">\n",
       "      <th></th>\n",
       "      <th>wins</th>\n",
       "      <th>losses</th>\n",
       "      <th>mean_win</th>\n",
       "      <th>mean_loss</th>\n",
       "      <th>ttl_win</th>\n",
       "      <th>ttl_loss</th>\n",
       "      <th>mean_win_perc</th>\n",
       "      <th>mean_loss_perc</th>\n",
       "      <th>win_loss_ratio</th>\n",
       "      <th>avg_w_l_prof_ratio</th>\n",
       "      <th>ttl_w_l_prof_ratio</th>\n",
       "      <th>net_profit</th>\n",
       "    </tr>\n",
       "  </thead>\n",
       "  <tbody>\n",
       "    <tr>\n",
       "      <th>macd_enter_profits</th>\n",
       "      <td>25557.0</td>\n",
       "      <td>20326.0</td>\n",
       "      <td>4.000068</td>\n",
       "      <td>-4.976427</td>\n",
       "      <td>102229.7332</td>\n",
       "      <td>-101150.8533</td>\n",
       "      <td>0.105038</td>\n",
       "      <td>-0.106722</td>\n",
       "      <td>1.257355</td>\n",
       "      <td>0.803803</td>\n",
       "      <td>1.010666</td>\n",
       "      <td>1078.8799</td>\n",
       "    </tr>\n",
       "    <tr>\n",
       "      <th>aws_enter_profits</th>\n",
       "      <td>14543.0</td>\n",
       "      <td>11416.0</td>\n",
       "      <td>3.975075</td>\n",
       "      <td>-4.964310</td>\n",
       "      <td>57809.5087</td>\n",
       "      <td>-56672.5612</td>\n",
       "      <td>0.105522</td>\n",
       "      <td>-0.106175</td>\n",
       "      <td>1.273914</td>\n",
       "      <td>0.800731</td>\n",
       "      <td>1.020062</td>\n",
       "      <td>1136.9475</td>\n",
       "    </tr>\n",
       "    <tr>\n",
       "      <th>macd_oversold_enter_profits</th>\n",
       "      <td>68429.0</td>\n",
       "      <td>51873.0</td>\n",
       "      <td>4.597685</td>\n",
       "      <td>-5.276530</td>\n",
       "      <td>314614.9982</td>\n",
       "      <td>-273709.4504</td>\n",
       "      <td>0.137977</td>\n",
       "      <td>-0.126929</td>\n",
       "      <td>1.319164</td>\n",
       "      <td>0.871346</td>\n",
       "      <td>1.149449</td>\n",
       "      <td>40905.5478</td>\n",
       "    </tr>\n",
       "    <tr>\n",
       "      <th>rsi_oversold_enter_profits</th>\n",
       "      <td>43246.0</td>\n",
       "      <td>30320.0</td>\n",
       "      <td>4.287299</td>\n",
       "      <td>-4.700306</td>\n",
       "      <td>185408.5232</td>\n",
       "      <td>-142513.2921</td>\n",
       "      <td>0.115887</td>\n",
       "      <td>-0.110651</td>\n",
       "      <td>1.426319</td>\n",
       "      <td>0.912132</td>\n",
       "      <td>1.300991</td>\n",
       "      <td>42895.2311</td>\n",
       "    </tr>\n",
       "    <tr>\n",
       "      <th>mfi_oversold_enter_profits</th>\n",
       "      <td>64859.0</td>\n",
       "      <td>47300.0</td>\n",
       "      <td>4.101762</td>\n",
       "      <td>-4.541597</td>\n",
       "      <td>266036.2045</td>\n",
       "      <td>-214817.5425</td>\n",
       "      <td>0.123506</td>\n",
       "      <td>-0.115676</td>\n",
       "      <td>1.371226</td>\n",
       "      <td>0.903154</td>\n",
       "      <td>1.238429</td>\n",
       "      <td>51218.6620</td>\n",
       "    </tr>\n",
       "    <tr>\n",
       "      <th>entrances_profits</th>\n",
       "      <td>161164.0</td>\n",
       "      <td>121034.0</td>\n",
       "      <td>4.245874</td>\n",
       "      <td>-4.936122</td>\n",
       "      <td>684282.0562</td>\n",
       "      <td>-597438.5845</td>\n",
       "      <td>0.121322</td>\n",
       "      <td>-0.115866</td>\n",
       "      <td>1.331560</td>\n",
       "      <td>0.860164</td>\n",
       "      <td>1.145360</td>\n",
       "      <td>86843.4717</td>\n",
       "    </tr>\n",
       "  </tbody>\n",
       "</table>\n",
       "</div>"
      ],
      "text/plain": [
       "                                 wins    losses  mean_win  mean_loss  \\\n",
       "macd_enter_profits            25557.0   20326.0  4.000068  -4.976427   \n",
       "aws_enter_profits             14543.0   11416.0  3.975075  -4.964310   \n",
       "macd_oversold_enter_profits   68429.0   51873.0  4.597685  -5.276530   \n",
       "rsi_oversold_enter_profits    43246.0   30320.0  4.287299  -4.700306   \n",
       "mfi_oversold_enter_profits    64859.0   47300.0  4.101762  -4.541597   \n",
       "entrances_profits            161164.0  121034.0  4.245874  -4.936122   \n",
       "\n",
       "                                 ttl_win     ttl_loss  mean_win_perc  \\\n",
       "macd_enter_profits           102229.7332 -101150.8533       0.105038   \n",
       "aws_enter_profits             57809.5087  -56672.5612       0.105522   \n",
       "macd_oversold_enter_profits  314614.9982 -273709.4504       0.137977   \n",
       "rsi_oversold_enter_profits   185408.5232 -142513.2921       0.115887   \n",
       "mfi_oversold_enter_profits   266036.2045 -214817.5425       0.123506   \n",
       "entrances_profits            684282.0562 -597438.5845       0.121322   \n",
       "\n",
       "                             mean_loss_perc  win_loss_ratio  \\\n",
       "macd_enter_profits                -0.106722        1.257355   \n",
       "aws_enter_profits                 -0.106175        1.273914   \n",
       "macd_oversold_enter_profits       -0.126929        1.319164   \n",
       "rsi_oversold_enter_profits        -0.110651        1.426319   \n",
       "mfi_oversold_enter_profits        -0.115676        1.371226   \n",
       "entrances_profits                 -0.115866        1.331560   \n",
       "\n",
       "                             avg_w_l_prof_ratio  ttl_w_l_prof_ratio  \\\n",
       "macd_enter_profits                     0.803803            1.010666   \n",
       "aws_enter_profits                      0.800731            1.020062   \n",
       "macd_oversold_enter_profits            0.871346            1.149449   \n",
       "rsi_oversold_enter_profits             0.912132            1.300991   \n",
       "mfi_oversold_enter_profits             0.903154            1.238429   \n",
       "entrances_profits                      0.860164            1.145360   \n",
       "\n",
       "                             net_profit  \n",
       "macd_enter_profits            1078.8799  \n",
       "aws_enter_profits             1136.9475  \n",
       "macd_oversold_enter_profits  40905.5478  \n",
       "rsi_oversold_enter_profits   42895.2311  \n",
       "mfi_oversold_enter_profits   51218.6620  \n",
       "entrances_profits            86843.4717  "
      ]
     },
     "execution_count": 13,
     "metadata": {},
     "output_type": "execute_result"
    }
   ],
   "source": [
    "df_win_loss"
   ]
  },
  {
   "cell_type": "code",
   "execution_count": null,
   "metadata": {
    "collapsed": true
   },
   "outputs": [],
   "source": [
    "df_win_loss"
   ]
  },
  {
   "cell_type": "code",
   "execution_count": null,
   "metadata": {
    "collapsed": true
   },
   "outputs": [],
   "source": [
    "def get_features(df):\n",
    "    df.loc[:, 'close_n_last'] = df.close_n.shift(1)\n",
    "    df.loc[:, 'close_diff'] = df.close_n - df.close_n_last\n",
    "    df.loc[:, 'open_close_diff'] = df.open_n - df.close_n\n",
    "    df.loc[:, 'high_low_diff'] = df.high_n - df.low_n\n",
    "    return df"
   ]
  },
  {
   "cell_type": "code",
   "execution_count": null,
   "metadata": {
    "collapsed": true
   },
   "outputs": [],
   "source": [
    "df_profits = get_features(df_profits)"
   ]
  },
  {
   "cell_type": "code",
   "execution_count": null,
   "metadata": {
    "collapsed": true
   },
   "outputs": [],
   "source": [
    "from xgboost import XGBClassifier"
   ]
  },
  {
   "cell_type": "code",
   "execution_count": null,
   "metadata": {
    "collapsed": true
   },
   "outputs": [],
   "source": [
    "input_cols = [\n",
    "   'open_n', 'high_n', 'low_n', 'close_n',\n",
    "   'roc', 'roc_short', 'roc_long', 'aws', 'mfi', 'macd', 'rsi',\n",
    "   'rsi_min_30', 'rsi_max_30', 'macd_min_30', 'macd_max_30', 'mfi_min_30',\n",
    "   'mfi_max_30', 'rsi_min_50', 'rsi_max_50', 'macd_min_50', 'macd_max_50',\n",
    "   'mfi_min_50', 'mfi_max_50', 'rsi_min_100', 'rsi_max_100',\n",
    "   'macd_min_100', 'macd_max_100', 'mfi_min_100', 'mfi_max_100',\n",
    "   'macd_last', 'aws_last', 'close_last', 'macd_enter', 'aws_enter',\n",
    "   'macd_oversold_enter', 'rsi_oversold_enter', 'mfi_oversold_enter',\n",
    "   'entrances']\n",
    "input_cols = ['roc', 'roc_short', 'roc_long', 'close_diff', 'open_close_diff', 'high_low_diff']\n",
    "target_col = 'binary_profit'"
   ]
  },
  {
   "cell_type": "code",
   "execution_count": null,
   "metadata": {
    "collapsed": true
   },
   "outputs": [],
   "source": [
    "train_year_start = 2006\n",
    "train_year_end = 2012"
   ]
  },
  {
   "cell_type": "code",
   "execution_count": null,
   "metadata": {
    "collapsed": true
   },
   "outputs": [],
   "source": [
    "start_year = 2013\n",
    "end_year = 2013"
   ]
  },
  {
   "cell_type": "code",
   "execution_count": null,
   "metadata": {
    "collapsed": true
   },
   "outputs": [],
   "source": [
    "model_data = df_profits.loc[(df_profits.year != 2008) & (df_profits.profits != 0)]\n",
    "train_data = model_data.loc[model_data.year.between(train_year_start, train_year_end), input_cols]\n",
    "train_y = model_data.loc[model_data.year.between(train_year_start, train_year_end), target_col]\n",
    "test = model_data.loc[model_data.year.between(start_year, end_year)]\n",
    "test_orig = test.copy()\n",
    "test_data = test.loc[:, input_cols]\n",
    "test_y = test.loc[:, target_col]"
   ]
  },
  {
   "cell_type": "code",
   "execution_count": null,
   "metadata": {
    "collapsed": true
   },
   "outputs": [],
   "source": [
    "model = XGBClassifier(n_estimators=20, learning_rate=0.05, max_depth=5)"
   ]
  },
  {
   "cell_type": "code",
   "execution_count": null,
   "metadata": {},
   "outputs": [],
   "source": [
    "model = model.fit(train_data, train_y,\n",
    "                  eval_set=[(test_data, test_y)], verbose=True)"
   ]
  },
  {
   "cell_type": "code",
   "execution_count": null,
   "metadata": {},
   "outputs": [],
   "source": [
    "preds = model.predict(test_data)"
   ]
  },
  {
   "cell_type": "code",
   "execution_count": null,
   "metadata": {},
   "outputs": [],
   "source": [
    "test.loc[:, 'profits'] = test.profits * preds"
   ]
  },
  {
   "cell_type": "code",
   "execution_count": null,
   "metadata": {},
   "outputs": [],
   "source": [
    "df_win_loss_ml = get_profit_metrics(test)"
   ]
  },
  {
   "cell_type": "code",
   "execution_count": null,
   "metadata": {
    "collapsed": true
   },
   "outputs": [],
   "source": [
    "df_win_loss = get_profit_metrics(test_orig)"
   ]
  },
  {
   "cell_type": "code",
   "execution_count": null,
   "metadata": {},
   "outputs": [],
   "source": [
    "df_win_loss"
   ]
  },
  {
   "cell_type": "code",
   "execution_count": null,
   "metadata": {},
   "outputs": [],
   "source": [
    "df_win_loss_ml"
   ]
  },
  {
   "cell_type": "code",
   "execution_count": null,
   "metadata": {
    "collapsed": true
   },
   "outputs": [],
   "source": [
    "df_profits.to_parquet('profits/profits_v1.parquet')"
   ]
  },
  {
   "cell_type": "markdown",
   "metadata": {
    "collapsed": true
   },
   "source": [
    "### Improvements \n",
    "* Look for price increase after reversion based indicators - V1\n",
    "* Weight examples in XGBoost by Price. Look at training vs testing profit - V2\n",
    "* Add Bollinger band based indicator - V3\n",
    "* Add Regime Filter - V4\n",
    "* Use Symbol Performance based filtering - V5\n",
    "* Look at performance across Industry"
   ]
  },
  {
   "cell_type": "code",
   "execution_count": null,
   "metadata": {
    "collapsed": true
   },
   "outputs": [],
   "source": []
  }
 ],
 "metadata": {
  "kernelspec": {
   "display_name": "Python 3",
   "language": "python",
   "name": "python3"
  },
  "language_info": {
   "codemirror_mode": {
    "name": "ipython",
    "version": 3
   },
   "file_extension": ".py",
   "mimetype": "text/x-python",
   "name": "python",
   "nbconvert_exporter": "python",
   "pygments_lexer": "ipython3",
   "version": "3.6.1"
  }
 },
 "nbformat": 4,
 "nbformat_minor": 2
}
