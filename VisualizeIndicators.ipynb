{
 "cells": [
  {
   "cell_type": "code",
   "execution_count": 10,
   "metadata": {},
   "outputs": [],
   "source": [
    "import pandas as pd\n",
    "\n",
    "df = pd.read_parquet('profits/profits_v1.parquet')"
   ]
  },
  {
   "cell_type": "code",
   "execution_count": 44,
   "metadata": {
    "collapsed": true
   },
   "outputs": [],
   "source": [
    "df.loc[:, 'cash_vol'] = df.volume * df.close"
   ]
  },
  {
   "cell_type": "code",
   "execution_count": 45,
   "metadata": {},
   "outputs": [],
   "source": [
    "ttl_vol = df.groupby('symbol').cash_vol.sum()"
   ]
  },
  {
   "cell_type": "code",
   "execution_count": 56,
   "metadata": {},
   "outputs": [],
   "source": [
    "ttl_vol = ttl_vol.sort_values(ascending=False)"
   ]
  },
  {
   "cell_type": "code",
   "execution_count": 57,
   "metadata": {},
   "outputs": [],
   "source": [
    "symbols = ttl_vol.index"
   ]
  },
  {
   "cell_type": "code",
   "execution_count": 58,
   "metadata": {
    "collapsed": true
   },
   "outputs": [],
   "source": [
    "sym_df = df.loc[df.symbol == symbols[0]]"
   ]
  },
  {
   "cell_type": "code",
   "execution_count": 59,
   "metadata": {
    "collapsed": true
   },
   "outputs": [],
   "source": [
    "indicators = ['roc', 'aws', 'macd', 'mfi', 'rsi']\n",
    "enters = [[], ['aws_enter'], ['macd_enter', 'macd_oversold_enter'],\n",
    "          ['mfi_oversold_enter'], ['rsi_oversold_enter']]"
   ]
  },
  {
   "cell_type": "code",
   "execution_count": 76,
   "metadata": {},
   "outputs": [],
   "source": [
    "from plotly.subplots import make_subplots\n",
    "import plotly.graph_objs as go\n",
    "\n",
    "def create_indicator_plots(sym_df, indicators, enters):\n",
    "    txt = 'open: '+ sym_df.open.astype(str) + '\\nclose: ' + sym_df.close.astype(str)\n",
    "    txt += '\\nhigh: ' + sym_df.high.astype(str) + '\\nlow: ' + sym_df.low.astype(str)\n",
    "    sym_df.loc[:, 'text'] = txt\n",
    "    symbol = sym_df.symbol.iloc[0]\n",
    "    for ind, indicator in enumerate(indicators):\n",
    "        fig = make_subplots(rows=2, cols=1, shared_xaxes=True)\n",
    "        '''\n",
    "        fig.add_trace(\n",
    "            go.Scatter(x=sym_df.date, y=sym_df.close, mode='lines', name='close'),\n",
    "            row=1, col=1\n",
    "        )\n",
    "        '''\n",
    "        fig.add_trace(\n",
    "            go.Candlestick(open=sym_df.open, high=sym_df.high, low=sym_df.low,\n",
    "                           close=sym_df.close, x=sym_df.date, name='price'),\n",
    "            row=1,col=1\n",
    "        )\n",
    "        ents = enters[ind]\n",
    "        colors = ['purple', 'blue']\n",
    "        for index, ent in enumerate(ents):\n",
    "            sub_df = sym_df.loc[sym_df[ent] == 1]\n",
    "            fig.add_trace(\n",
    "                go.Scatter(x=sub_df.date, y=sub_df.close, mode='markers', name=ent,\n",
    "                           marker=dict(color=colors[index])),\n",
    "                row=1, col=1\n",
    "            )\n",
    "\n",
    "        fig.add_trace(\n",
    "            go.Scatter(x=sym_df.date, y=sym_df[indicator], mode='lines', name=indicator),\n",
    "            row=2, col=1\n",
    "        )\n",
    "        fig.update_layout(xaxis_rangeslider_visible=False)\n",
    "        plotly.offline.plot(fig, filename = 'indicator_viz/%s_%s.html' % (symbol, indicator), auto_open=False)"
   ]
  },
  {
   "cell_type": "code",
   "execution_count": 77,
   "metadata": {},
   "outputs": [
    {
     "name": "stderr",
     "output_type": "stream",
     "text": [
      "C:\\Users\\Brian\\Anaconda3\\envs\\env_full\\lib\\site-packages\\pandas\\core\\indexing.py:543: SettingWithCopyWarning:\n",
      "\n",
      "\n",
      "A value is trying to be set on a copy of a slice from a DataFrame.\n",
      "Try using .loc[row_indexer,col_indexer] = value instead\n",
      "\n",
      "See the caveats in the documentation: http://pandas.pydata.org/pandas-docs/stable/indexing.html#indexing-view-versus-copy\n",
      "\n"
     ]
    }
   ],
   "source": [
    "create_indicator_plots(sym_df, indicators, enters)"
   ]
  },
  {
   "cell_type": "code",
   "execution_count": 55,
   "metadata": {},
   "outputs": [],
   "source": [
    "import plotly"
   ]
  },
  {
   "cell_type": "code",
   "execution_count": 7,
   "metadata": {},
   "outputs": [
    {
     "data": {
      "text/plain": [
       "'C:\\\\Users\\\\Brian\\\\Anaconda3\\\\envs\\\\env_full\\\\lib\\\\site-packages\\\\plotly\\\\__init__.py'"
      ]
     },
     "execution_count": 7,
     "metadata": {},
     "output_type": "execute_result"
    }
   ],
   "source": [
    "plotly.__file__"
   ]
  },
  {
   "cell_type": "code",
   "execution_count": 8,
   "metadata": {
    "scrolled": true
   },
   "outputs": [],
   "source": [
    "import plotly.graph_objs as go"
   ]
  },
  {
   "cell_type": "code",
   "execution_count": null,
   "metadata": {
    "collapsed": true
   },
   "outputs": [],
   "source": []
  },
  {
   "cell_type": "code",
   "execution_count": null,
   "metadata": {
    "collapsed": true
   },
   "outputs": [],
   "source": []
  }
 ],
 "metadata": {
  "kernelspec": {
   "display_name": "Python 3",
   "language": "python",
   "name": "python3"
  },
  "language_info": {
   "codemirror_mode": {
    "name": "ipython",
    "version": 3
   },
   "file_extension": ".py",
   "mimetype": "text/x-python",
   "name": "python",
   "nbconvert_exporter": "python",
   "pygments_lexer": "ipython3",
   "version": "3.6.1"
  }
 },
 "nbformat": 4,
 "nbformat_minor": 2
}
